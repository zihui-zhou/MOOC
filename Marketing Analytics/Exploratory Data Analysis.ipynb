{
 "cells": [
  {
   "cell_type": "markdown",
   "metadata": {},
   "source": [
    "#### Customer churn -- when an existing customer stops doing business with a company\n",
    "- Contractual: on a contract -- cable TV\n",
    "- Non-contractual: consumer loyalty, online-browsing\n",
    "- Voluntary churn: phone card, stream subscription\n",
    "- Involuntary: utility shut off, credit card expired"
   ]
  },
  {
   "cell_type": "code",
   "execution_count": null,
   "metadata": {},
   "outputs": [],
   "source": [
    "import pandas as pd\n",
    "telco = pd.read_csv('customer_churn.csv')\n",
    "df.info()\n",
    "df['feature'].value_counts()"
   ]
  },
  {
   "cell_type": "markdown",
   "metadata": {},
   "source": [
    "#### Difference between churners and non-churners\n",
    "- Do churners call customer service more often?\n",
    "- Does one state have more churners compared to another?\n",
    "- ..."
   ]
  },
  {
   "cell_type": "code",
   "execution_count": null,
   "metadata": {},
   "outputs": [],
   "source": [
    "# Group by x and compute the standard deviation\n",
    "# df is groupby a column 'x', and then the std is calculated across all columns of df for each value of 'x'. \n",
    "df.groupby(['x']).std()\n",
    "df.groupby(['x']).mean()"
   ]
  },
  {
   "cell_type": "code",
   "execution_count": null,
   "metadata": {},
   "outputs": [],
   "source": [
    "# Churns differ among the states--Count the number of churners and non-churners by State\n",
    "# group df by x and aggregate by y --> .groupby() \n",
    "df.groupby('x')['y'].value_counts()"
   ]
  },
  {
   "cell_type": "markdown",
   "metadata": {},
   "source": [
    "#### Data Visualization"
   ]
  },
  {
   "cell_type": "code",
   "execution_count": null,
   "metadata": {},
   "outputs": [],
   "source": [
    "# Import matplotlib and seaborn\n",
    "import matplotlib.pyplot as plt\n",
    "import seaborn as sns\n",
    "\n",
    "# Visualize the distribution of 'Day_Mins'\n",
    "sns.distplot(telco['Day_Mins'])\n",
    "\n",
    "\n",
    "# there is a difference in the number of customer service calls left by churners.\n",
    "sns.boxplot(x = \"X-axis variable\",\n",
    "            y = \"Y-axis variable\",\n",
    "            data = DataFrame,\n",
    "            sym = \"\", # remove the outliers\n",
    "            hue = ) # add the thrid variable\n",
    "\n",
    "# Display the plot: always remember this line!!\n",
    "plt.show()"
   ]
  },
  {
   "cell_type": "markdown",
   "metadata": {},
   "source": [
    "#### Conclusion\n",
    "\n",
    "It looks like customers who do churn end up leaving __more__ customer service calls, unless these customers also have an __international plan__, in which case they leave fewer customer service calls. "
   ]
  }
 ],
 "metadata": {
  "kernelspec": {
   "display_name": "Python 3",
   "language": "python",
   "name": "python3"
  },
  "language_info": {
   "codemirror_mode": {
    "name": "ipython",
    "version": 3
   },
   "file_extension": ".py",
   "mimetype": "text/x-python",
   "name": "python",
   "nbconvert_exporter": "python",
   "pygments_lexer": "ipython3",
   "version": "3.7.3"
  }
 },
 "nbformat": 4,
 "nbformat_minor": 2
}
